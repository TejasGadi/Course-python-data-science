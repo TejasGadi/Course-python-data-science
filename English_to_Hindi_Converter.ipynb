{
  "nbformat": 4,
  "nbformat_minor": 0,
  "metadata": {
    "colab": {
      "name": "English_to_Hindi_Converter.ipynb",
      "provenance": [],
      "include_colab_link": true
    },
    "kernelspec": {
      "name": "python3",
      "display_name": "Python 3"
    },
    "language_info": {
      "name": "python"
    },
    "accelerator": "GPU"
  },
  "cells": [
    {
      "cell_type": "markdown",
      "metadata": {
        "id": "view-in-github",
        "colab_type": "text"
      },
      "source": [
        "<a href=\"https://colab.research.google.com/github/TejasGadi/Course-python-data-science/blob/master/English_to_Hindi_Converter.ipynb\" target=\"_parent\"><img src=\"https://colab.research.google.com/assets/colab-badge.svg\" alt=\"Open In Colab\"/></a>"
      ]
    },
    {
      "cell_type": "markdown",
      "metadata": {
        "id": "daYNokJsgvfC"
      },
      "source": [
        "## End to End English to Hindi Text Converter \n",
        "\n",
        "> Steps to be taken:\n",
        "1. Problem Defination\n",
        "2. Data\n",
        "3. Evaluation\n",
        "4. Features\n",
        "5. Modelling Experiments\n",
        "\n",
        "\n",
        "1. Problem Definition:\n",
        "\n",
        "  An input sentence given in English text which is gonna get converted to Regional language (Hindi).\n",
        "\n",
        "2. Data\n",
        "\n",
        "  The original dataset has come from kaggle which then got uploaded to git hub and imported to Colab.\n",
        "\n",
        "3. Evaluation\n",
        "\n",
        "  If we can get 95% or above of accuracy on converting the English text into the regional language text(Hindi)\n",
        "\n",
        "4. Features \n",
        "\n",
        "  * English text \n",
        "  * Hindi text \n",
        "  * Source"
      ]
    },
    {
      "cell_type": "markdown",
      "metadata": {
        "id": "oswWLWxSiMiL"
      },
      "source": [
        "> **Loading the dataset from github**"
      ]
    },
    {
      "cell_type": "code",
      "metadata": {
        "colab": {
          "base_uri": "https://localhost:8080/"
        },
        "id": "4cOSKjCmifxC",
        "outputId": "1af0a189-571e-4102-8625-03f70cf04be7"
      },
      "source": [
        "!wget https://github.com/AkshayBargaje/TEXT-Converter/blob/main/Hindi_English_Truncated_Corpus.csv?raw=true"
      ],
      "execution_count": null,
      "outputs": [
        {
          "output_type": "stream",
          "name": "stdout",
          "text": [
            "--2021-10-02 05:10:46--  https://github.com/AkshayBargaje/TEXT-Converter/blob/main/Hindi_English_Truncated_Corpus.csv?raw=true\n",
            "Resolving github.com (github.com)... 140.82.121.3\n",
            "Connecting to github.com (github.com)|140.82.121.3|:443... connected.\n",
            "HTTP request sent, awaiting response... 302 Found\n",
            "Location: https://github.com/AkshayBargaje/TEXT-Converter/raw/main/Hindi_English_Truncated_Corpus.csv [following]\n",
            "--2021-10-02 05:10:46--  https://github.com/AkshayBargaje/TEXT-Converter/raw/main/Hindi_English_Truncated_Corpus.csv\n",
            "Reusing existing connection to github.com:443.\n",
            "HTTP request sent, awaiting response... 302 Found\n",
            "Location: https://raw.githubusercontent.com/AkshayBargaje/TEXT-Converter/main/Hindi_English_Truncated_Corpus.csv [following]\n",
            "--2021-10-02 05:10:46--  https://raw.githubusercontent.com/AkshayBargaje/TEXT-Converter/main/Hindi_English_Truncated_Corpus.csv\n",
            "Resolving raw.githubusercontent.com (raw.githubusercontent.com)... 185.199.108.133, 185.199.109.133, 185.199.110.133, ...\n",
            "Connecting to raw.githubusercontent.com (raw.githubusercontent.com)|185.199.108.133|:443... connected.\n",
            "HTTP request sent, awaiting response... 200 OK\n",
            "Length: 41399186 (39M) [text/plain]\n",
            "Saving to: ‘Hindi_English_Truncated_Corpus.csv?raw=true’\n",
            "\n",
            "Hindi_English_Trunc 100%[===================>]  39.48M   178MB/s    in 0.2s    \n",
            "\n",
            "2021-10-02 05:10:48 (178 MB/s) - ‘Hindi_English_Truncated_Corpus.csv?raw=true’ saved [41399186/41399186]\n",
            "\n"
          ]
        }
      ]
    },
    {
      "cell_type": "code",
      "metadata": {
        "id": "T4b7Wv8FiiPC"
      },
      "source": [
        "# Reading the dataset\n",
        "\n",
        "import pandas as pd\n",
        "data=pd.read_csv(\"/content/Hindi_English_Truncated_Corpus.csv?raw=true\",index_col=False,skipinitialspace=True)"
      ],
      "execution_count": null,
      "outputs": []
    },
    {
      "cell_type": "code",
      "metadata": {
        "colab": {
          "base_uri": "https://localhost:8080/"
        },
        "id": "WDreIt2GGpWU",
        "outputId": "dba69ca7-3013-41a4-8c42-781ecd8b4224"
      },
      "source": [
        "data.info()"
      ],
      "execution_count": null,
      "outputs": [
        {
          "output_type": "stream",
          "name": "stdout",
          "text": [
            "<class 'pandas.core.frame.DataFrame'>\n",
            "RangeIndex: 127607 entries, 0 to 127606\n",
            "Data columns (total 3 columns):\n",
            " #   Column            Non-Null Count   Dtype \n",
            "---  ------            --------------   ----- \n",
            " 0   source            127607 non-null  object\n",
            " 1   english_sentence  127605 non-null  object\n",
            " 2   hindi_sentence    127607 non-null  object\n",
            "dtypes: object(3)\n",
            "memory usage: 2.9+ MB\n"
          ]
        }
      ]
    },
    {
      "cell_type": "code",
      "metadata": {
        "id": "P7rTHSapsS23"
      },
      "source": [
        "data=data[:10000]"
      ],
      "execution_count": null,
      "outputs": []
    },
    {
      "cell_type": "code",
      "metadata": {
        "colab": {
          "base_uri": "https://localhost:8080/",
          "height": 363
        },
        "id": "h1MwavB2ivZN",
        "outputId": "8900e1dd-7644-47ea-b5eb-9b59f9f1a16b"
      },
      "source": [
        "# Reading first few lines of the dataset \n",
        "data.head(10)"
      ],
      "execution_count": null,
      "outputs": [
        {
          "output_type": "execute_result",
          "data": {
            "text/html": [
              "<div>\n",
              "<style scoped>\n",
              "    .dataframe tbody tr th:only-of-type {\n",
              "        vertical-align: middle;\n",
              "    }\n",
              "\n",
              "    .dataframe tbody tr th {\n",
              "        vertical-align: top;\n",
              "    }\n",
              "\n",
              "    .dataframe thead th {\n",
              "        text-align: right;\n",
              "    }\n",
              "</style>\n",
              "<table border=\"1\" class=\"dataframe\">\n",
              "  <thead>\n",
              "    <tr style=\"text-align: right;\">\n",
              "      <th></th>\n",
              "      <th>source</th>\n",
              "      <th>english_sentence</th>\n",
              "      <th>hindi_sentence</th>\n",
              "    </tr>\n",
              "  </thead>\n",
              "  <tbody>\n",
              "    <tr>\n",
              "      <th>0</th>\n",
              "      <td>ted</td>\n",
              "      <td>politicians do not have permission to do what ...</td>\n",
              "      <td>राजनीतिज्ञों के पास जो कार्य करना चाहिए, वह कर...</td>\n",
              "    </tr>\n",
              "    <tr>\n",
              "      <th>1</th>\n",
              "      <td>ted</td>\n",
              "      <td>I'd like to tell you about one such child,</td>\n",
              "      <td>मई आपको ऐसे ही एक बच्चे के बारे में बताना चाहू...</td>\n",
              "    </tr>\n",
              "    <tr>\n",
              "      <th>2</th>\n",
              "      <td>indic2012</td>\n",
              "      <td>This percentage is even greater than the perce...</td>\n",
              "      <td>यह प्रतिशत भारत में हिन्दुओं प्रतिशत से अधिक है।</td>\n",
              "    </tr>\n",
              "    <tr>\n",
              "      <th>3</th>\n",
              "      <td>ted</td>\n",
              "      <td>what we really mean is that they're bad at not...</td>\n",
              "      <td>हम ये नहीं कहना चाहते कि वो ध्यान नहीं दे पाते</td>\n",
              "    </tr>\n",
              "    <tr>\n",
              "      <th>4</th>\n",
              "      <td>indic2012</td>\n",
              "      <td>.The ending portion of these Vedas is called U...</td>\n",
              "      <td>इन्हीं वेदों का अंतिम भाग उपनिषद कहलाता है।</td>\n",
              "    </tr>\n",
              "    <tr>\n",
              "      <th>5</th>\n",
              "      <td>tides</td>\n",
              "      <td>The then Governor of Kashmir resisted transfer...</td>\n",
              "      <td>कश्मीर के तत्कालीन गवर्नर ने इस हस्तांतरण का व...</td>\n",
              "    </tr>\n",
              "    <tr>\n",
              "      <th>6</th>\n",
              "      <td>indic2012</td>\n",
              "      <td>In this lies the circumstances of people befor...</td>\n",
              "      <td>इसमें तुमसे पूर्व गुज़रे हुए लोगों के हालात हैं।</td>\n",
              "    </tr>\n",
              "    <tr>\n",
              "      <th>7</th>\n",
              "      <td>ted</td>\n",
              "      <td>And who are we to say, even, that they are wrong</td>\n",
              "      <td>और हम होते कौन हैं यह कहने भी वाले कि वे गलत हैं</td>\n",
              "    </tr>\n",
              "    <tr>\n",
              "      <th>8</th>\n",
              "      <td>indic2012</td>\n",
              "      <td>“”Global Warming“” refer to warming caused in ...</td>\n",
              "      <td>ग्लोबल वॉर्मिंग से आशय हाल ही के दशकों में हुई...</td>\n",
              "    </tr>\n",
              "    <tr>\n",
              "      <th>9</th>\n",
              "      <td>tides</td>\n",
              "      <td>You may want your child to go to a school that...</td>\n",
              "      <td>हो सकता है कि आप चाहते हों कि आप का नऋर्नमेनटे...</td>\n",
              "    </tr>\n",
              "  </tbody>\n",
              "</table>\n",
              "</div>"
            ],
            "text/plain": [
              "      source  ...                                     hindi_sentence\n",
              "0        ted  ...  राजनीतिज्ञों के पास जो कार्य करना चाहिए, वह कर...\n",
              "1        ted  ...  मई आपको ऐसे ही एक बच्चे के बारे में बताना चाहू...\n",
              "2  indic2012  ...   यह प्रतिशत भारत में हिन्दुओं प्रतिशत से अधिक है।\n",
              "3        ted  ...     हम ये नहीं कहना चाहते कि वो ध्यान नहीं दे पाते\n",
              "4  indic2012  ...        इन्हीं वेदों का अंतिम भाग उपनिषद कहलाता है।\n",
              "5      tides  ...  कश्मीर के तत्कालीन गवर्नर ने इस हस्तांतरण का व...\n",
              "6  indic2012  ...   इसमें तुमसे पूर्व गुज़रे हुए लोगों के हालात हैं।\n",
              "7        ted  ...   और हम होते कौन हैं यह कहने भी वाले कि वे गलत हैं\n",
              "8  indic2012  ...  ग्लोबल वॉर्मिंग से आशय हाल ही के दशकों में हुई...\n",
              "9      tides  ...  हो सकता है कि आप चाहते हों कि आप का नऋर्नमेनटे...\n",
              "\n",
              "[10 rows x 3 columns]"
            ]
          },
          "metadata": {},
          "execution_count": 5
        }
      ]
    },
    {
      "cell_type": "code",
      "metadata": {
        "colab": {
          "base_uri": "https://localhost:8080/"
        },
        "id": "B3ikckg0iz9k",
        "outputId": "220cb975-f7dc-4733-c930-a1ed7b0f9eda"
      },
      "source": [
        "data.shape"
      ],
      "execution_count": null,
      "outputs": [
        {
          "output_type": "execute_result",
          "data": {
            "text/plain": [
              "(10000, 3)"
            ]
          },
          "metadata": {},
          "execution_count": 6
        }
      ]
    },
    {
      "cell_type": "code",
      "metadata": {
        "colab": {
          "base_uri": "https://localhost:8080/",
          "height": 206
        },
        "id": "z9dDcvg0i9F-",
        "outputId": "469d153e-337e-4677-a3bc-0d54693b5f9e"
      },
      "source": [
        "data.tail()"
      ],
      "execution_count": null,
      "outputs": [
        {
          "output_type": "execute_result",
          "data": {
            "text/html": [
              "<div>\n",
              "<style scoped>\n",
              "    .dataframe tbody tr th:only-of-type {\n",
              "        vertical-align: middle;\n",
              "    }\n",
              "\n",
              "    .dataframe tbody tr th {\n",
              "        vertical-align: top;\n",
              "    }\n",
              "\n",
              "    .dataframe thead th {\n",
              "        text-align: right;\n",
              "    }\n",
              "</style>\n",
              "<table border=\"1\" class=\"dataframe\">\n",
              "  <thead>\n",
              "    <tr style=\"text-align: right;\">\n",
              "      <th></th>\n",
              "      <th>source</th>\n",
              "      <th>english_sentence</th>\n",
              "      <th>hindi_sentence</th>\n",
              "    </tr>\n",
              "  </thead>\n",
              "  <tbody>\n",
              "    <tr>\n",
              "      <th>9995</th>\n",
              "      <td>tides</td>\n",
              "      <td>It 's not that the US is unaware of this nexus .</td>\n",
              "      <td>ऐसा नहीं कि अमेरिका इस ग जोड़े से अनभिज्ञ है .</td>\n",
              "    </tr>\n",
              "    <tr>\n",
              "      <th>9996</th>\n",
              "      <td>tides</td>\n",
              "      <td>The separatist tendency in the political field...</td>\n",
              "      <td>राजनैतिक क्षेत्र में अलगाव की प्रवृति सांस्कृत...</td>\n",
              "    </tr>\n",
              "    <tr>\n",
              "      <th>9997</th>\n",
              "      <td>tides</td>\n",
              "      <td>It contains twice as much of nitrogen and pota...</td>\n",
              "      <td>इस खाद में ढोरों से प्राप्त होनेवाली खाद की अप...</td>\n",
              "    </tr>\n",
              "    <tr>\n",
              "      <th>9998</th>\n",
              "      <td>indic2012</td>\n",
              "      <td>Spokesmen for industries, which are polluting,...</td>\n",
              "      <td>प्रदूषणकारी उद्योगों की पैरोकारी ( कमजोर ) मान...</td>\n",
              "    </tr>\n",
              "    <tr>\n",
              "      <th>9999</th>\n",
              "      <td>ted</td>\n",
              "      <td>done by Noah Snavely, a graduate student at th...</td>\n",
              "      <td>जो वाशिंगटन विशविधालय की स्नातक छात्रा, नोहा स...</td>\n",
              "    </tr>\n",
              "  </tbody>\n",
              "</table>\n",
              "</div>"
            ],
            "text/plain": [
              "         source  ...                                     hindi_sentence\n",
              "9995      tides  ...     ऐसा नहीं कि अमेरिका इस ग जोड़े से अनभिज्ञ है .\n",
              "9996      tides  ...  राजनैतिक क्षेत्र में अलगाव की प्रवृति सांस्कृत...\n",
              "9997      tides  ...  इस खाद में ढोरों से प्राप्त होनेवाली खाद की अप...\n",
              "9998  indic2012  ...  प्रदूषणकारी उद्योगों की पैरोकारी ( कमजोर ) मान...\n",
              "9999        ted  ...  जो वाशिंगटन विशविधालय की स्नातक छात्रा, नोहा स...\n",
              "\n",
              "[5 rows x 3 columns]"
            ]
          },
          "metadata": {},
          "execution_count": 7
        }
      ]
    },
    {
      "cell_type": "markdown",
      "metadata": {
        "id": "LKAtMsrxyk49"
      },
      "source": [
        "## Checking if `Nan` values present (Empty spaces)"
      ]
    },
    {
      "cell_type": "markdown",
      "metadata": {
        "id": "p9u3iGzVyups"
      },
      "source": [
        "> **Note:** As there are very less(2) `Nan` values let's fill those rows with random text which contain `Nan` values"
      ]
    },
    {
      "cell_type": "markdown",
      "metadata": {
        "id": "GqI2S5JvBphx"
      },
      "source": [
        "### Removing the unnecessary column form the dataset"
      ]
    },
    {
      "cell_type": "code",
      "metadata": {
        "id": "TXK5qDF_BfL_"
      },
      "source": [
        "data=data.drop(\"source\",axis=1)"
      ],
      "execution_count": null,
      "outputs": []
    },
    {
      "cell_type": "code",
      "metadata": {
        "colab": {
          "base_uri": "https://localhost:8080/",
          "height": 206
        },
        "id": "WKvBSpk8BobW",
        "outputId": "44823064-2b76-49c9-fc11-0b79aa3ed745"
      },
      "source": [
        "data.head()"
      ],
      "execution_count": null,
      "outputs": [
        {
          "output_type": "execute_result",
          "data": {
            "text/html": [
              "<div>\n",
              "<style scoped>\n",
              "    .dataframe tbody tr th:only-of-type {\n",
              "        vertical-align: middle;\n",
              "    }\n",
              "\n",
              "    .dataframe tbody tr th {\n",
              "        vertical-align: top;\n",
              "    }\n",
              "\n",
              "    .dataframe thead th {\n",
              "        text-align: right;\n",
              "    }\n",
              "</style>\n",
              "<table border=\"1\" class=\"dataframe\">\n",
              "  <thead>\n",
              "    <tr style=\"text-align: right;\">\n",
              "      <th></th>\n",
              "      <th>english_sentence</th>\n",
              "      <th>hindi_sentence</th>\n",
              "    </tr>\n",
              "  </thead>\n",
              "  <tbody>\n",
              "    <tr>\n",
              "      <th>0</th>\n",
              "      <td>politicians do not have permission to do what ...</td>\n",
              "      <td>राजनीतिज्ञों के पास जो कार्य करना चाहिए, वह कर...</td>\n",
              "    </tr>\n",
              "    <tr>\n",
              "      <th>1</th>\n",
              "      <td>I'd like to tell you about one such child,</td>\n",
              "      <td>मई आपको ऐसे ही एक बच्चे के बारे में बताना चाहू...</td>\n",
              "    </tr>\n",
              "    <tr>\n",
              "      <th>2</th>\n",
              "      <td>This percentage is even greater than the perce...</td>\n",
              "      <td>यह प्रतिशत भारत में हिन्दुओं प्रतिशत से अधिक है।</td>\n",
              "    </tr>\n",
              "    <tr>\n",
              "      <th>3</th>\n",
              "      <td>what we really mean is that they're bad at not...</td>\n",
              "      <td>हम ये नहीं कहना चाहते कि वो ध्यान नहीं दे पाते</td>\n",
              "    </tr>\n",
              "    <tr>\n",
              "      <th>4</th>\n",
              "      <td>.The ending portion of these Vedas is called U...</td>\n",
              "      <td>इन्हीं वेदों का अंतिम भाग उपनिषद कहलाता है।</td>\n",
              "    </tr>\n",
              "  </tbody>\n",
              "</table>\n",
              "</div>"
            ],
            "text/plain": [
              "                                    english_sentence                                     hindi_sentence\n",
              "0  politicians do not have permission to do what ...  राजनीतिज्ञों के पास जो कार्य करना चाहिए, वह कर...\n",
              "1         I'd like to tell you about one such child,  मई आपको ऐसे ही एक बच्चे के बारे में बताना चाहू...\n",
              "2  This percentage is even greater than the perce...   यह प्रतिशत भारत में हिन्दुओं प्रतिशत से अधिक है।\n",
              "3  what we really mean is that they're bad at not...     हम ये नहीं कहना चाहते कि वो ध्यान नहीं दे पाते\n",
              "4  .The ending portion of these Vedas is called U...        इन्हीं वेदों का अंतिम भाग उपनिषद कहलाता है।"
            ]
          },
          "metadata": {},
          "execution_count": 9
        }
      ]
    },
    {
      "cell_type": "markdown",
      "metadata": {
        "id": "dX9zvwkFAt-k"
      },
      "source": [
        "## Analysing the Missing values"
      ]
    },
    {
      "cell_type": "code",
      "metadata": {
        "colab": {
          "base_uri": "https://localhost:8080/"
        },
        "id": "JeUUkwQ2116E",
        "outputId": "ea354ad5-e7c1-4dba-dbdc-abca3ddcdf8a"
      },
      "source": [
        "data.isna().sum()"
      ],
      "execution_count": null,
      "outputs": [
        {
          "output_type": "execute_result",
          "data": {
            "text/plain": [
              "english_sentence    0\n",
              "hindi_sentence      0\n",
              "dtype: int64"
            ]
          },
          "metadata": {},
          "execution_count": 10
        }
      ]
    },
    {
      "cell_type": "code",
      "metadata": {
        "id": "uzisTdRZGJpA"
      },
      "source": [
        "X=data.drop(\"hindi_sentence\",axis=1)\n",
        "y=data[\"hindi_sentence\"]"
      ],
      "execution_count": null,
      "outputs": []
    },
    {
      "cell_type": "code",
      "metadata": {
        "id": "ZzglGoXpvBg4"
      },
      "source": [
        "from sklearn.model_selection import train_test_split\n",
        "import numpy as np\n",
        "np.random.seed(42)\n",
        "X_train,X_test,y_train,y_test=train_test_split(X,y,test_size=0.2)"
      ],
      "execution_count": null,
      "outputs": []
    },
    {
      "cell_type": "markdown",
      "metadata": {
        "id": "YDGYnG6UHEAj"
      },
      "source": [
        "## Model 0 creating a baseline model\n"
      ]
    },
    {
      "cell_type": "code",
      "metadata": {
        "colab": {
          "base_uri": "https://localhost:8080/"
        },
        "id": "uIqUkGqPHJcc",
        "outputId": "812467f7-b496-4fa6-dede-4147d845e1a1"
      },
      "source": [
        "# Find average number of tokens(words) in the training sentences\n",
        "sent_lens=[len(sentences.split()) for sentences in X_train]\n",
        "avg_sent_len=np.mean(sent_lens)\n",
        "round(avg_sent_len)"
      ],
      "execution_count": null,
      "outputs": [
        {
          "output_type": "execute_result",
          "data": {
            "text/plain": [
              "1"
            ]
          },
          "metadata": {},
          "execution_count": 13
        }
      ]
    },
    {
      "cell_type": "code",
      "metadata": {
        "colab": {
          "base_uri": "https://localhost:8080/"
        },
        "id": "xtV7S2uTH--v",
        "outputId": "317e5377-64d3-4201-8819-67dd03d458f4"
      },
      "source": [
        "output_seq_len=int(np.percentile(sent_lens,95))\n",
        "output_seq_len"
      ],
      "execution_count": null,
      "outputs": [
        {
          "output_type": "execute_result",
          "data": {
            "text/plain": [
              "1"
            ]
          },
          "metadata": {},
          "execution_count": 14
        }
      ]
    },
    {
      "cell_type": "code",
      "metadata": {
        "colab": {
          "base_uri": "https://localhost:8080/"
        },
        "id": "II47L5d5JYjj",
        "outputId": "50cb9097-7d8f-4218-91ec-d1304cbe1d1a"
      },
      "source": [
        "max(sent_lens)"
      ],
      "execution_count": null,
      "outputs": [
        {
          "output_type": "execute_result",
          "data": {
            "text/plain": [
              "1"
            ]
          },
          "metadata": {},
          "execution_count": 15
        }
      ]
    },
    {
      "cell_type": "code",
      "metadata": {
        "colab": {
          "base_uri": "https://localhost:8080/",
          "height": 206
        },
        "id": "tbEvQFddPl1I",
        "outputId": "8768b118-abc8-4a1d-ab26-6ad4d6ee17a7"
      },
      "source": [
        "X_train_df=pd.DataFrame(X_train)\n",
        "y_train_df=pd.DataFrame(y_train)\n",
        "X_test_df=pd.DataFrame(X_test)\n",
        "y_test=pd.DataFrame(y_test)\n",
        "X_train_df[:5]"
      ],
      "execution_count": null,
      "outputs": [
        {
          "output_type": "execute_result",
          "data": {
            "text/html": [
              "<div>\n",
              "<style scoped>\n",
              "    .dataframe tbody tr th:only-of-type {\n",
              "        vertical-align: middle;\n",
              "    }\n",
              "\n",
              "    .dataframe tbody tr th {\n",
              "        vertical-align: top;\n",
              "    }\n",
              "\n",
              "    .dataframe thead th {\n",
              "        text-align: right;\n",
              "    }\n",
              "</style>\n",
              "<table border=\"1\" class=\"dataframe\">\n",
              "  <thead>\n",
              "    <tr style=\"text-align: right;\">\n",
              "      <th></th>\n",
              "      <th>english_sentence</th>\n",
              "    </tr>\n",
              "  </thead>\n",
              "  <tbody>\n",
              "    <tr>\n",
              "      <th>9254</th>\n",
              "      <td>3 We note that take-up of the Development Rate...</td>\n",
              "    </tr>\n",
              "    <tr>\n",
              "      <th>1561</th>\n",
              "      <td>Bhishma and Drona are killed.</td>\n",
              "    </tr>\n",
              "    <tr>\n",
              "      <th>1670</th>\n",
              "      <td>He said, “Well, easy, this is District Eight.</td>\n",
              "    </tr>\n",
              "    <tr>\n",
              "      <th>6087</th>\n",
              "      <td>Rising high above feeling , a greater feeling ...</td>\n",
              "    </tr>\n",
              "    <tr>\n",
              "      <th>6669</th>\n",
              "      <td>(Laughter)</td>\n",
              "    </tr>\n",
              "  </tbody>\n",
              "</table>\n",
              "</div>"
            ],
            "text/plain": [
              "                                       english_sentence\n",
              "9254  3 We note that take-up of the Development Rate...\n",
              "1561                      Bhishma and Drona are killed.\n",
              "1670      He said, “Well, easy, this is District Eight.\n",
              "6087  Rising high above feeling , a greater feeling ...\n",
              "6669                                         (Laughter)"
            ]
          },
          "metadata": {},
          "execution_count": 16
        }
      ]
    },
    {
      "cell_type": "code",
      "metadata": {
        "colab": {
          "base_uri": "https://localhost:8080/"
        },
        "id": "4Ap3qmEeP_zt",
        "outputId": "f2fe4a16-2a52-4154-a87c-708aaa98b091"
      },
      "source": [
        "y_train[:5]"
      ],
      "execution_count": null,
      "outputs": [
        {
          "output_type": "execute_result",
          "data": {
            "text/plain": [
              "9254    3 हम यह नोट करते हैं कि पुराने श्रमिकों के लिए...\n",
              "1561                                    भीष्म और द्रोण वध\n",
              "1670        वो कहता है,' बहुत आसान है, ये आठवाँ ज़िला है.\n",
              "6087     भाव से ऊपर उठकर महाभाव या प्रेम के आराध्य हैं ः-\n",
              "6669                                               (हंसी)\n",
              "Name: hindi_sentence, dtype: object"
            ]
          },
          "metadata": {},
          "execution_count": 17
        }
      ]
    },
    {
      "cell_type": "code",
      "metadata": {
        "colab": {
          "base_uri": "https://localhost:8080/",
          "height": 206
        },
        "id": "u-URbW_mXvNy",
        "outputId": "8884b15a-80d6-4456-df96-fd1795ce7b21"
      },
      "source": [
        "X_test[:5]"
      ],
      "execution_count": null,
      "outputs": [
        {
          "output_type": "execute_result",
          "data": {
            "text/html": [
              "<div>\n",
              "<style scoped>\n",
              "    .dataframe tbody tr th:only-of-type {\n",
              "        vertical-align: middle;\n",
              "    }\n",
              "\n",
              "    .dataframe tbody tr th {\n",
              "        vertical-align: top;\n",
              "    }\n",
              "\n",
              "    .dataframe thead th {\n",
              "        text-align: right;\n",
              "    }\n",
              "</style>\n",
              "<table border=\"1\" class=\"dataframe\">\n",
              "  <thead>\n",
              "    <tr style=\"text-align: right;\">\n",
              "      <th></th>\n",
              "      <th>english_sentence</th>\n",
              "    </tr>\n",
              "  </thead>\n",
              "  <tbody>\n",
              "    <tr>\n",
              "      <th>6252</th>\n",
              "      <td>The court will ' serve ' the summons on the de...</td>\n",
              "    </tr>\n",
              "    <tr>\n",
              "      <th>4684</th>\n",
              "      <td>in Switzerland</td>\n",
              "    </tr>\n",
              "    <tr>\n",
              "      <th>1731</th>\n",
              "      <td>It was the occasion of a debate on far-reachin...</td>\n",
              "    </tr>\n",
              "    <tr>\n",
              "      <th>4742</th>\n",
              "      <td>is an intelligent representation of reality.</td>\n",
              "    </tr>\n",
              "    <tr>\n",
              "      <th>4521</th>\n",
              "      <td>For some months the lovers lived in the bliss ...</td>\n",
              "    </tr>\n",
              "  </tbody>\n",
              "</table>\n",
              "</div>"
            ],
            "text/plain": [
              "                                       english_sentence\n",
              "6252  The court will ' serve ' the summons on the de...\n",
              "4684                                     in Switzerland\n",
              "1731  It was the occasion of a debate on far-reachin...\n",
              "4742       is an intelligent representation of reality.\n",
              "4521  For some months the lovers lived in the bliss ..."
            ]
          },
          "metadata": {},
          "execution_count": 18
        }
      ]
    },
    {
      "cell_type": "code",
      "metadata": {
        "id": "AglsZyp8QqSc"
      },
      "source": [
        "X_train_sentences=X_train_df[\"english_sentence\"].to_list()\n",
        "y_train_sentences=y_train_df[\"hindi_sentence\"].to_list()\n",
        "X_test_senetences=X_test[\"english_sentence\"].to_list()\n",
        "y_test_sentences=y_test[\"hindi_sentence\"].to_list()"
      ],
      "execution_count": null,
      "outputs": []
    },
    {
      "cell_type": "markdown",
      "metadata": {
        "id": "vjXv_oNxRLcn"
      },
      "source": [
        "## Creating a Text Vectorization layer"
      ]
    },
    {
      "cell_type": "code",
      "metadata": {
        "id": "h9c61fBtRWay"
      },
      "source": [
        "from tensorflow.keras.layers import TextVectorization\n",
        "\n",
        "max_vocab_length=10000\n",
        "max_length=15\n",
        "\n",
        "text_vectorizer=TextVectorization(max_tokens=max_vocab_length,\n",
        "                                  output_sequence_length=output_seq_len)"
      ],
      "execution_count": null,
      "outputs": []
    },
    {
      "cell_type": "code",
      "metadata": {
        "id": "DLTFM9dOR8xE"
      },
      "source": [
        "text_vectorizer.adapt(X_train_sentences)\n",
        "# text_vectorizer.adapt(y_train_sentences)"
      ],
      "execution_count": null,
      "outputs": []
    },
    {
      "cell_type": "code",
      "metadata": {
        "id": "JO57E2IWSDrA",
        "colab": {
          "base_uri": "https://localhost:8080/"
        },
        "outputId": "ea7acbd9-be39-4655-9e74-f8a6985731ee"
      },
      "source": [
        "import random\n",
        "target_sentence=random.choice(y_train_sentences)\n",
        "print(f\"Target Sentence is: \\n{target_sentence}\")\n",
        "print(f\"\\nLength of target sentence: \\n{len(target_sentence.split())}\")\n",
        "print(f\"\\nVectorized Target Sentence is: {text_vectorizer(target_sentence)}\")"
      ],
      "execution_count": null,
      "outputs": [
        {
          "output_type": "stream",
          "name": "stdout",
          "text": [
            "Target Sentence is: \n",
            "अगर उसने पहले से अपने को याद दिलाया होता , ? यदि तुम अपने साथियों के साथ इतिहास के बड़े संकट में उनके साथ कदम से कदम नहीं मिलाते तो सावधान हो जाओ और यह मत कहो कि वे गलत हैं और तुम सही हो .\n",
            "\n",
            "Length of target sentence: \n",
            "46\n",
            "\n",
            "Vectorized Target Sentence is: [1]\n"
          ]
        }
      ]
    },
    {
      "cell_type": "code",
      "metadata": {
        "colab": {
          "base_uri": "https://localhost:8080/"
        },
        "id": "DwXrjpHm7zkn",
        "outputId": "97d19f75-2d41-4c10-8c40-d8a0dcfacea1"
      },
      "source": [
        "# How many words in our training vocabulary\n",
        "\n",
        "text_converter=text_vectorizer.get_vocabulary()\n",
        "print(f\"Number of words in vocab:\\n {len(text_converter)}\")\n",
        "print(f\"\\nMost common words in vocab:\\n {text_converter[:5]}\")\n",
        "print(f\"\\nLeast common words in Vocab:\\n {text_converter[-5:]}\")"
      ],
      "execution_count": null,
      "outputs": [
        {
          "output_type": "stream",
          "name": "stdout",
          "text": [
            "Number of words in vocab:\n",
            " 10000\n",
            "\n",
            "Most common words in vocab:\n",
            " ['', '[UNK]', 'the', 'of', 'and']\n",
            "\n",
            "Least common words in Vocab:\n",
            " ['radiolinja', 'radiant', 'radha', 'radcliffe', 'radars']\n"
          ]
        }
      ]
    },
    {
      "cell_type": "code",
      "metadata": {
        "colab": {
          "base_uri": "https://localhost:8080/"
        },
        "id": "6HfIX3sqZc4T",
        "outputId": "871e21bf-f51f-4737-8b1e-ff489b9974d4"
      },
      "source": [
        "text_vectorizer.get_config()"
      ],
      "execution_count": null,
      "outputs": [
        {
          "output_type": "execute_result",
          "data": {
            "text/plain": [
              "{'batch_input_shape': (None,),\n",
              " 'dtype': 'string',\n",
              " 'max_tokens': 10000,\n",
              " 'name': 'text_vectorization',\n",
              " 'ngrams': None,\n",
              " 'output_mode': 'int',\n",
              " 'output_sequence_length': 1,\n",
              " 'pad_to_max_tokens': False,\n",
              " 'split': 'whitespace',\n",
              " 'standardize': 'lower_and_strip_punctuation',\n",
              " 'trainable': True}"
            ]
          },
          "metadata": {},
          "execution_count": 24
        }
      ]
    },
    {
      "cell_type": "markdown",
      "metadata": {
        "id": "s8CYKKo3Z7bh"
      },
      "source": [
        "## Creating a Custom Embedding layer"
      ]
    },
    {
      "cell_type": "code",
      "metadata": {
        "id": "i8FppsXsanF_"
      },
      "source": [
        "import tensorflow as tf\n",
        "\n",
        "text_embed=tf.keras.layers.Embedding(input_dim=len(text_converter),\n",
        "                            output_dim=128,\n",
        "                            mask_zero=True,\n",
        "                            name=\"Token_Embedding\")"
      ],
      "execution_count": null,
      "outputs": []
    },
    {
      "cell_type": "code",
      "metadata": {
        "colab": {
          "base_uri": "https://localhost:8080/"
        },
        "id": "yzzCHCu7bYnV",
        "outputId": "4e728471-339d-44d1-eb69-f5d6565da31d"
      },
      "source": [
        "# Showing some example of Embedding\n",
        "print(f\"Target Sentence is:\\n {target_sentence}\")\n",
        "vectorized_sentence=text_vectorizer([target_sentence])\n",
        "print(f\"\\nSentence after vectorization:\\n {vectorized_sentence}\")\n",
        "embedded_sentence=text_embed(vectorized_sentence)\n",
        "print(f\"\\nSentence after embedding:\\n {embedded_sentence[0]}\")"
      ],
      "execution_count": null,
      "outputs": [
        {
          "output_type": "stream",
          "name": "stdout",
          "text": [
            "Target Sentence is:\n",
            " अगर उसने पहले से अपने को याद दिलाया होता , ? यदि तुम अपने साथियों के साथ इतिहास के बड़े संकट में उनके साथ कदम से कदम नहीं मिलाते तो सावधान हो जाओ और यह मत कहो कि वे गलत हैं और तुम सही हो .\n",
            "\n",
            "Sentence after vectorization:\n",
            " [[1]]\n",
            "\n",
            "Sentence after embedding:\n",
            " [[-0.01421117 -0.03862723  0.00674987  0.01409184 -0.00118313  0.0479563\n",
            "  -0.01524025 -0.0232185   0.03861586  0.02467963 -0.03302238  0.00155837\n",
            "  -0.01621903  0.01713834  0.01640831 -0.04958912  0.00157071 -0.0029546\n",
            "  -0.04102957 -0.03638024  0.04729787  0.02946692 -0.04911434 -0.03037167\n",
            "   0.04507517  0.01376147 -0.03003697 -0.04562173  0.01453555 -0.02879269\n",
            "   0.0002525   0.02526975  0.02376187  0.0207222   0.0169459   0.03635459\n",
            "   0.0176085   0.01146108 -0.034844   -0.03976627 -0.02567166  0.03286317\n",
            "  -0.02154592  0.00969498 -0.02402699 -0.01829889  0.01463305  0.00724262\n",
            "   0.02573385 -0.04682616 -0.03085961  0.00772317  0.03870979 -0.03467523\n",
            "  -0.02071421 -0.00809299  0.03777983 -0.00789613  0.04929222 -0.01582054\n",
            "  -0.03712072 -0.03808735  0.03595733 -0.04191842  0.00664844 -0.03780522\n",
            "   0.01375305  0.04835737  0.03039983  0.0307352   0.01434156  0.04408536\n",
            "  -0.00328046  0.0284743  -0.00790758 -0.04384368  0.04113951  0.0259189\n",
            "   0.0040687  -0.04854     0.00841501  0.04377259  0.00494423 -0.02653577\n",
            "   0.02877661 -0.02923201 -0.00655246  0.03805281 -0.0272009  -0.04431197\n",
            "  -0.01095691 -0.01133419  0.02877286  0.03945589  0.0156174   0.03727526\n",
            "   0.04848783  0.01223489  0.0002168   0.00493681  0.02106169 -0.02359095\n",
            "   0.0483559   0.02038628 -0.02890866 -0.00195925  0.03720992  0.01712184\n",
            "  -0.03222091  0.02355409 -0.01568496  0.01719706  0.04657224 -0.04425776\n",
            "  -0.00833459 -0.02109643  0.0190838  -0.02525786 -0.01194494 -0.02725792\n",
            "  -0.02929119 -0.01621702 -0.04558001 -0.02351909 -0.01382626  0.04480569\n",
            "   0.03851474 -0.02212577]]\n"
          ]
        }
      ]
    },
    {
      "cell_type": "markdown",
      "metadata": {
        "id": "hhzlR5WAc8oq"
      },
      "source": [
        "## Creating a faster loading dataset\n",
        "> Using tensorflow API"
      ]
    },
    {
      "cell_type": "code",
      "metadata": {
        "id": "ysvfKmTM0XlX",
        "colab": {
          "base_uri": "https://localhost:8080/",
          "height": 630
        },
        "outputId": "3e5fd375-3da5-4631-9be2-01d3305bf398"
      },
      "source": [
        "# Adding the first input layer for our model\n",
        "\n",
        "inputs1=tf.keras.layers.Input(shape=(8000,1))\n",
        "text_vectors1=text_vectorizer(X_train_sentences)\n",
        "text_embedder1=text_embed(text_vectors1)\n",
        "x=tf.keras.layers.Conv1D(64,kernel_size=5,padding=\"same\",activation=\"relu\")(text_embedder1)\n",
        "x=tf.keras.layers.GlobalAveragePooling1D(name=\"global_average_pooling1D\")(x)\n",
        "outputs=tf.keras.layers.Dense(10000,activation=\"softmax\")(x)\n",
        "model_0=tf.keras.Model(inputs1,outputs)\n",
        "\n",
        "# Compiling the model\n",
        "model_0.compile(loss=\"categorical_crossentropy\",\n",
        "                optimizer=\"adam\",\n",
        "                metrics=[\"accuracy\"])\n",
        "\n",
        "# Fitting the model\n",
        "model_0.fit(X_train_sentences,\n",
        "            batch_size=32,\n",
        "            epochs=10)"
      ],
      "execution_count": null,
      "outputs": [
        {
          "output_type": "error",
          "ename": "ValueError",
          "evalue": "ignored",
          "traceback": [
            "\u001b[0;31m---------------------------------------------------------------------------\u001b[0m",
            "\u001b[0;31mValueError\u001b[0m                                Traceback (most recent call last)",
            "\u001b[0;32m<ipython-input-36-5f95cf38357d>\u001b[0m in \u001b[0;36m<module>\u001b[0;34m()\u001b[0m\n\u001b[1;32m      7\u001b[0m \u001b[0mx\u001b[0m\u001b[0;34m=\u001b[0m\u001b[0mtf\u001b[0m\u001b[0;34m.\u001b[0m\u001b[0mkeras\u001b[0m\u001b[0;34m.\u001b[0m\u001b[0mlayers\u001b[0m\u001b[0;34m.\u001b[0m\u001b[0mGlobalAveragePooling1D\u001b[0m\u001b[0;34m(\u001b[0m\u001b[0mname\u001b[0m\u001b[0;34m=\u001b[0m\u001b[0;34m\"global_average_pooling1D\"\u001b[0m\u001b[0;34m)\u001b[0m\u001b[0;34m(\u001b[0m\u001b[0mx\u001b[0m\u001b[0;34m)\u001b[0m\u001b[0;34m\u001b[0m\u001b[0;34m\u001b[0m\u001b[0m\n\u001b[1;32m      8\u001b[0m \u001b[0moutputs\u001b[0m\u001b[0;34m=\u001b[0m\u001b[0mtf\u001b[0m\u001b[0;34m.\u001b[0m\u001b[0mkeras\u001b[0m\u001b[0;34m.\u001b[0m\u001b[0mlayers\u001b[0m\u001b[0;34m.\u001b[0m\u001b[0mDense\u001b[0m\u001b[0;34m(\u001b[0m\u001b[0;36m10000\u001b[0m\u001b[0;34m,\u001b[0m\u001b[0mactivation\u001b[0m\u001b[0;34m=\u001b[0m\u001b[0;34m\"softmax\"\u001b[0m\u001b[0;34m)\u001b[0m\u001b[0;34m(\u001b[0m\u001b[0mx\u001b[0m\u001b[0;34m)\u001b[0m\u001b[0;34m\u001b[0m\u001b[0;34m\u001b[0m\u001b[0m\n\u001b[0;32m----> 9\u001b[0;31m \u001b[0mmodel_0\u001b[0m\u001b[0;34m=\u001b[0m\u001b[0mtf\u001b[0m\u001b[0;34m.\u001b[0m\u001b[0mkeras\u001b[0m\u001b[0;34m.\u001b[0m\u001b[0mModel\u001b[0m\u001b[0;34m(\u001b[0m\u001b[0minputs1\u001b[0m\u001b[0;34m,\u001b[0m\u001b[0moutputs\u001b[0m\u001b[0;34m)\u001b[0m\u001b[0;34m\u001b[0m\u001b[0;34m\u001b[0m\u001b[0m\n\u001b[0m\u001b[1;32m     10\u001b[0m \u001b[0;34m\u001b[0m\u001b[0m\n\u001b[1;32m     11\u001b[0m \u001b[0;31m# Compiling the model\u001b[0m\u001b[0;34m\u001b[0m\u001b[0;34m\u001b[0m\u001b[0;34m\u001b[0m\u001b[0m\n",
            "\u001b[0;32m/usr/local/lib/python3.7/dist-packages/tensorflow/python/training/tracking/base.py\u001b[0m in \u001b[0;36m_method_wrapper\u001b[0;34m(self, *args, **kwargs)\u001b[0m\n\u001b[1;32m    528\u001b[0m     \u001b[0mself\u001b[0m\u001b[0;34m.\u001b[0m\u001b[0m_self_setattr_tracking\u001b[0m \u001b[0;34m=\u001b[0m \u001b[0;32mFalse\u001b[0m  \u001b[0;31m# pylint: disable=protected-access\u001b[0m\u001b[0;34m\u001b[0m\u001b[0;34m\u001b[0m\u001b[0m\n\u001b[1;32m    529\u001b[0m     \u001b[0;32mtry\u001b[0m\u001b[0;34m:\u001b[0m\u001b[0;34m\u001b[0m\u001b[0;34m\u001b[0m\u001b[0m\n\u001b[0;32m--> 530\u001b[0;31m       \u001b[0mresult\u001b[0m \u001b[0;34m=\u001b[0m \u001b[0mmethod\u001b[0m\u001b[0;34m(\u001b[0m\u001b[0mself\u001b[0m\u001b[0;34m,\u001b[0m \u001b[0;34m*\u001b[0m\u001b[0margs\u001b[0m\u001b[0;34m,\u001b[0m \u001b[0;34m**\u001b[0m\u001b[0mkwargs\u001b[0m\u001b[0;34m)\u001b[0m\u001b[0;34m\u001b[0m\u001b[0;34m\u001b[0m\u001b[0m\n\u001b[0m\u001b[1;32m    531\u001b[0m     \u001b[0;32mfinally\u001b[0m\u001b[0;34m:\u001b[0m\u001b[0;34m\u001b[0m\u001b[0;34m\u001b[0m\u001b[0m\n\u001b[1;32m    532\u001b[0m       \u001b[0mself\u001b[0m\u001b[0;34m.\u001b[0m\u001b[0m_self_setattr_tracking\u001b[0m \u001b[0;34m=\u001b[0m \u001b[0mprevious_value\u001b[0m  \u001b[0;31m# pylint: disable=protected-access\u001b[0m\u001b[0;34m\u001b[0m\u001b[0;34m\u001b[0m\u001b[0m\n",
            "\u001b[0;32m/usr/local/lib/python3.7/dist-packages/keras/engine/functional.py\u001b[0m in \u001b[0;36m__init__\u001b[0;34m(self, inputs, outputs, name, trainable, **kwargs)\u001b[0m\n\u001b[1;32m    107\u001b[0m     \u001b[0mgeneric_utils\u001b[0m\u001b[0;34m.\u001b[0m\u001b[0mvalidate_kwargs\u001b[0m\u001b[0;34m(\u001b[0m\u001b[0mkwargs\u001b[0m\u001b[0;34m,\u001b[0m \u001b[0;34m{\u001b[0m\u001b[0;34m}\u001b[0m\u001b[0;34m)\u001b[0m\u001b[0;34m\u001b[0m\u001b[0;34m\u001b[0m\u001b[0m\n\u001b[1;32m    108\u001b[0m     \u001b[0msuper\u001b[0m\u001b[0;34m(\u001b[0m\u001b[0mFunctional\u001b[0m\u001b[0;34m,\u001b[0m \u001b[0mself\u001b[0m\u001b[0;34m)\u001b[0m\u001b[0;34m.\u001b[0m\u001b[0m__init__\u001b[0m\u001b[0;34m(\u001b[0m\u001b[0mname\u001b[0m\u001b[0;34m=\u001b[0m\u001b[0mname\u001b[0m\u001b[0;34m,\u001b[0m \u001b[0mtrainable\u001b[0m\u001b[0;34m=\u001b[0m\u001b[0mtrainable\u001b[0m\u001b[0;34m)\u001b[0m\u001b[0;34m\u001b[0m\u001b[0;34m\u001b[0m\u001b[0m\n\u001b[0;32m--> 109\u001b[0;31m     \u001b[0mself\u001b[0m\u001b[0;34m.\u001b[0m\u001b[0m_init_graph_network\u001b[0m\u001b[0;34m(\u001b[0m\u001b[0minputs\u001b[0m\u001b[0;34m,\u001b[0m \u001b[0moutputs\u001b[0m\u001b[0;34m)\u001b[0m\u001b[0;34m\u001b[0m\u001b[0;34m\u001b[0m\u001b[0m\n\u001b[0m\u001b[1;32m    110\u001b[0m \u001b[0;34m\u001b[0m\u001b[0m\n\u001b[1;32m    111\u001b[0m   \u001b[0;34m@\u001b[0m\u001b[0mtf\u001b[0m\u001b[0;34m.\u001b[0m\u001b[0m__internal__\u001b[0m\u001b[0;34m.\u001b[0m\u001b[0mtracking\u001b[0m\u001b[0;34m.\u001b[0m\u001b[0mno_automatic_dependency_tracking\u001b[0m\u001b[0;34m\u001b[0m\u001b[0;34m\u001b[0m\u001b[0m\n",
            "\u001b[0;32m/usr/local/lib/python3.7/dist-packages/tensorflow/python/training/tracking/base.py\u001b[0m in \u001b[0;36m_method_wrapper\u001b[0;34m(self, *args, **kwargs)\u001b[0m\n\u001b[1;32m    528\u001b[0m     \u001b[0mself\u001b[0m\u001b[0;34m.\u001b[0m\u001b[0m_self_setattr_tracking\u001b[0m \u001b[0;34m=\u001b[0m \u001b[0;32mFalse\u001b[0m  \u001b[0;31m# pylint: disable=protected-access\u001b[0m\u001b[0;34m\u001b[0m\u001b[0;34m\u001b[0m\u001b[0m\n\u001b[1;32m    529\u001b[0m     \u001b[0;32mtry\u001b[0m\u001b[0;34m:\u001b[0m\u001b[0;34m\u001b[0m\u001b[0;34m\u001b[0m\u001b[0m\n\u001b[0;32m--> 530\u001b[0;31m       \u001b[0mresult\u001b[0m \u001b[0;34m=\u001b[0m \u001b[0mmethod\u001b[0m\u001b[0;34m(\u001b[0m\u001b[0mself\u001b[0m\u001b[0;34m,\u001b[0m \u001b[0;34m*\u001b[0m\u001b[0margs\u001b[0m\u001b[0;34m,\u001b[0m \u001b[0;34m**\u001b[0m\u001b[0mkwargs\u001b[0m\u001b[0;34m)\u001b[0m\u001b[0;34m\u001b[0m\u001b[0;34m\u001b[0m\u001b[0m\n\u001b[0m\u001b[1;32m    531\u001b[0m     \u001b[0;32mfinally\u001b[0m\u001b[0;34m:\u001b[0m\u001b[0;34m\u001b[0m\u001b[0;34m\u001b[0m\u001b[0m\n\u001b[1;32m    532\u001b[0m       \u001b[0mself\u001b[0m\u001b[0;34m.\u001b[0m\u001b[0m_self_setattr_tracking\u001b[0m \u001b[0;34m=\u001b[0m \u001b[0mprevious_value\u001b[0m  \u001b[0;31m# pylint: disable=protected-access\u001b[0m\u001b[0;34m\u001b[0m\u001b[0;34m\u001b[0m\u001b[0m\n",
            "\u001b[0;32m/usr/local/lib/python3.7/dist-packages/keras/engine/functional.py\u001b[0m in \u001b[0;36m_init_graph_network\u001b[0;34m(self, inputs, outputs)\u001b[0m\n\u001b[1;32m    144\u001b[0m         \u001b[0mbase_layer_utils\u001b[0m\u001b[0;34m.\u001b[0m\u001b[0mcreate_keras_history\u001b[0m\u001b[0;34m(\u001b[0m\u001b[0mself\u001b[0m\u001b[0;34m.\u001b[0m\u001b[0m_nested_outputs\u001b[0m\u001b[0;34m)\u001b[0m\u001b[0;34m\u001b[0m\u001b[0;34m\u001b[0m\u001b[0m\n\u001b[1;32m    145\u001b[0m \u001b[0;34m\u001b[0m\u001b[0m\n\u001b[0;32m--> 146\u001b[0;31m     \u001b[0mself\u001b[0m\u001b[0;34m.\u001b[0m\u001b[0m_validate_graph_inputs_and_outputs\u001b[0m\u001b[0;34m(\u001b[0m\u001b[0;34m)\u001b[0m\u001b[0;34m\u001b[0m\u001b[0;34m\u001b[0m\u001b[0m\n\u001b[0m\u001b[1;32m    147\u001b[0m \u001b[0;34m\u001b[0m\u001b[0m\n\u001b[1;32m    148\u001b[0m     \u001b[0;31m# A Network does not create weights of its own, thus it is already\u001b[0m\u001b[0;34m\u001b[0m\u001b[0;34m\u001b[0m\u001b[0;34m\u001b[0m\u001b[0m\n",
            "\u001b[0;32m/usr/local/lib/python3.7/dist-packages/keras/engine/functional.py\u001b[0m in \u001b[0;36m_validate_graph_inputs_and_outputs\u001b[0;34m(self)\u001b[0m\n\u001b[1;32m    721\u001b[0m         raise ValueError('Output tensors of a ' + cls_name + ' model must be '\n\u001b[1;32m    722\u001b[0m                          \u001b[0;34m'the output of a TensorFlow `Layer` '\u001b[0m\u001b[0;34m\u001b[0m\u001b[0;34m\u001b[0m\u001b[0m\n\u001b[0;32m--> 723\u001b[0;31m                          '(thus holding past layer metadata). Found: ' + str(x))\n\u001b[0m\u001b[1;32m    724\u001b[0m \u001b[0;34m\u001b[0m\u001b[0m\n\u001b[1;32m    725\u001b[0m   \u001b[0;32mdef\u001b[0m \u001b[0m_insert_layers\u001b[0m\u001b[0;34m(\u001b[0m\u001b[0mself\u001b[0m\u001b[0;34m,\u001b[0m \u001b[0mlayers\u001b[0m\u001b[0;34m,\u001b[0m \u001b[0mrelevant_nodes\u001b[0m\u001b[0;34m=\u001b[0m\u001b[0;32mNone\u001b[0m\u001b[0;34m)\u001b[0m\u001b[0;34m:\u001b[0m\u001b[0;34m\u001b[0m\u001b[0;34m\u001b[0m\u001b[0m\n",
            "\u001b[0;31mValueError\u001b[0m: Output tensors of a Functional model must be the output of a TensorFlow `Layer` (thus holding past layer metadata). Found: tf.Tensor(\n[[9.99433178e-05 9.99964468e-05 1.00075835e-04 ... 1.00007637e-04\n  1.00049336e-04 9.98814503e-05]\n [9.98573450e-05 9.99737022e-05 9.99955009e-05 ... 1.00096280e-04\n  1.00002282e-04 9.97542666e-05]\n [1.00114899e-04 9.98753312e-05 1.00142883e-04 ... 9.99510085e-05\n  9.98610194e-05 9.97871321e-05]\n ...\n [1.00015677e-04 1.00072277e-04 1.00034507e-04 ... 1.00036363e-04\n  1.00206322e-04 9.99176918e-05]\n [1.00062185e-04 9.99825497e-05 1.00010097e-04 ... 9.99263575e-05\n  9.98974283e-05 9.97117168e-05]\n [9.99136173e-05 1.00002944e-04 9.99200856e-05 ... 9.98380783e-05\n  9.99555705e-05 9.97296665e-05]], shape=(8000, 10000), dtype=float32)"
          ]
        }
      ]
    },
    {
      "cell_type": "code",
      "metadata": {
        "id": "ytNli30rcEEe"
      },
      "source": [
        ""
      ],
      "execution_count": null,
      "outputs": []
    }
  ]
}